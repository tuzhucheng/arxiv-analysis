{
 "cells": [
  {
   "cell_type": "markdown",
   "metadata": {
    "colab_type": "text",
    "id": "7d0NmbCD1Z4j"
   },
   "source": [
    "# arXiv cs.CL Submission Date Analysis"
   ]
  },
  {
   "cell_type": "markdown",
   "metadata": {
    "colab": {
     "autoexec": {
      "startup": false,
      "wait_interval": 0
     }
    },
    "colab_type": "code",
    "collapsed": true,
    "id": "ogxcOIGZ92bv"
   },
   "source": [
    "Before running this notebook, you should make sure you installed all dependencies in requirements.txt and ran download.py."
   ]
  },
  {
   "cell_type": "markdown",
   "metadata": {
    "colab_type": "text",
    "id": "wNLnJoH4HL8K"
   },
   "source": [
    "This analysis is motivated by this tweet: https://twitter.com/lintool/status/928313098305396737. We want to see if indeed arXiv submissions occur a month before the ACL submission deadlines with the new ACL rules. Let's load all the papers metadata (title, authors, submission date) we downloaded."
   ]
  },
  {
   "cell_type": "code",
   "execution_count": 1,
   "metadata": {
    "colab": {
     "autoexec": {
      "startup": false,
      "wait_interval": 0
     }
    },
    "colab_type": "code",
    "collapsed": true,
    "id": "mzE-NUWuBFT2"
   },
   "outputs": [],
   "source": [
    "import pickle\n",
    "\n",
    "with open('data.pkl', 'rb') as f:\n",
    "    papers = pickle.load(f)"
   ]
  },
  {
   "cell_type": "markdown",
   "metadata": {
    "colab_type": "text",
    "id": "SO4m8vx5Hryr"
   },
   "source": [
    "Great! Now we have all the papers in `papers`. Let's analyze the submission times. A single paper look something like this:"
   ]
  },
  {
   "cell_type": "code",
   "execution_count": 2,
   "metadata": {
    "colab": {
     "autoexec": {
      "startup": false,
      "wait_interval": 0
     },
     "base_uri": "https://localhost:8080/",
     "height": 85,
     "output_extras": [
      {
       "item_id": 1
      }
     ]
    },
    "colab_type": "code",
    "collapsed": false,
    "executionInfo": {
     "elapsed": 266,
     "status": "ok",
     "timestamp": 1510974906856,
     "user": {
      "displayName": "Michael Tu",
      "photoUrl": "//lh5.googleusercontent.com/-03XCyMB0pHE/AAAAAAAAAAI/AAAAAAAAE3E/8Ax_z3-e6S8/s50-c-k-no/photo.jpg",
      "userId": "110745996004260710733"
     },
     "user_tz": 300
    },
    "id": "8_-oDMtlGFKg",
    "outputId": "310c46b5-edf4-49a7-d639-4cc76384f13d"
   },
   "outputs": [
    {
     "data": {
      "text/plain": [
       "{'authors': [{'name': 'Xu Sun'},\n",
       "  {'name': 'Xuancheng Ren'},\n",
       "  {'name': 'Shuming Ma'},\n",
       "  {'name': 'Bingzhen Wei'},\n",
       "  {'name': 'Wei Li'},\n",
       "  {'name': 'Houfeng Wang'}],\n",
       " 'link': 'http://arxiv.org/abs/1711.06528v1',\n",
       " 'published': time.struct_time(tm_year=2017, tm_mon=11, tm_mday=17, tm_hour=13, tm_min=36, tm_sec=51, tm_wday=4, tm_yday=321, tm_isdst=0),\n",
       " 'title': 'Training Simplification and Model Simplification for Deep Learning: A\\n  Minimal Effort Back Propagation Method'}"
      ]
     },
     "execution_count": 2,
     "metadata": {},
     "output_type": "execute_result"
    }
   ],
   "source": [
    "papers[0]"
   ]
  },
  {
   "cell_type": "code",
   "execution_count": 3,
   "metadata": {
    "colab": {
     "autoexec": {
      "startup": false,
      "wait_interval": 0
     }
    },
    "colab_type": "code",
    "collapsed": false,
    "id": "IJe2pj6iIHhU"
   },
   "outputs": [],
   "source": [
    "import numpy as np\n",
    "import pandas as pd\n",
    "\n",
    "papers_df = pd.DataFrame(papers)"
   ]
  },
  {
   "cell_type": "markdown",
   "metadata": {
    "colab_type": "text",
    "id": "D-jhhrgGOa89"
   },
   "source": [
    "Let's convert the published column to an actual datetime object."
   ]
  },
  {
   "cell_type": "code",
   "execution_count": 4,
   "metadata": {
    "colab": {
     "autoexec": {
      "startup": false,
      "wait_interval": 0
     }
    },
    "colab_type": "code",
    "collapsed": false,
    "id": "Byvu7LuYIQG8"
   },
   "outputs": [],
   "source": [
    "papers_df['published'] = papers_df.apply(lambda r: '-'.join(map(lambda i: str(i).zfill(2), [r.published.tm_year, r.published.tm_mon, r.published.tm_mday])), axis=1).astype('datetime64[D]')"
   ]
  },
  {
   "cell_type": "code",
   "execution_count": 5,
   "metadata": {
    "colab": {
     "autoexec": {
      "startup": false,
      "wait_interval": 0
     },
     "base_uri": "https://localhost:8080/",
     "height": 198,
     "output_extras": [
      {
       "item_id": 1
      }
     ]
    },
    "colab_type": "code",
    "collapsed": false,
    "executionInfo": {
     "elapsed": 453,
     "status": "ok",
     "timestamp": 1510976380809,
     "user": {
      "displayName": "Michael Tu",
      "photoUrl": "//lh5.googleusercontent.com/-03XCyMB0pHE/AAAAAAAAAAI/AAAAAAAAE3E/8Ax_z3-e6S8/s50-c-k-no/photo.jpg",
      "userId": "110745996004260710733"
     },
     "user_tz": 300
    },
    "id": "oq0XCYV7LH9A",
    "outputId": "e55c3457-bc9f-4641-e0d2-f615440a1e20"
   },
   "outputs": [
    {
     "data": {
      "text/html": [
       "<div>\n",
       "<style scoped>\n",
       "    .dataframe tbody tr th:only-of-type {\n",
       "        vertical-align: middle;\n",
       "    }\n",
       "\n",
       "    .dataframe tbody tr th {\n",
       "        vertical-align: top;\n",
       "    }\n",
       "\n",
       "    .dataframe thead th {\n",
       "        text-align: right;\n",
       "    }\n",
       "</style>\n",
       "<table border=\"1\" class=\"dataframe\">\n",
       "  <thead>\n",
       "    <tr style=\"text-align: right;\">\n",
       "      <th></th>\n",
       "      <th>authors</th>\n",
       "      <th>link</th>\n",
       "      <th>published</th>\n",
       "      <th>title</th>\n",
       "    </tr>\n",
       "  </thead>\n",
       "  <tbody>\n",
       "    <tr>\n",
       "      <th>0</th>\n",
       "      <td>[{'name': 'Xu Sun'}, {'name': 'Xuancheng Ren'}...</td>\n",
       "      <td>http://arxiv.org/abs/1711.06528v1</td>\n",
       "      <td>2017-11-17</td>\n",
       "      <td>Training Simplification and Model Simplificati...</td>\n",
       "    </tr>\n",
       "    <tr>\n",
       "      <th>1</th>\n",
       "      <td>[{'name': 'Anselm Rothe'}, {'name': 'Brenden M...</td>\n",
       "      <td>http://arxiv.org/abs/1711.06351v1</td>\n",
       "      <td>2017-11-16</td>\n",
       "      <td>Question Asking as Program Generation</td>\n",
       "    </tr>\n",
       "    <tr>\n",
       "      <th>2</th>\n",
       "      <td>[{'name': 'Jianbo Chen'}, {'name': 'Yelong She...</td>\n",
       "      <td>http://arxiv.org/abs/1711.06288v1</td>\n",
       "      <td>2017-11-16</td>\n",
       "      <td>Language-Based Image Editing with Recurrent At...</td>\n",
       "    </tr>\n",
       "    <tr>\n",
       "      <th>3</th>\n",
       "      <td>[{'name': 'Rajarshee Mitra'}]</td>\n",
       "      <td>http://arxiv.org/abs/1711.06238v1</td>\n",
       "      <td>2017-11-16</td>\n",
       "      <td>An Abstractive approach to Question Answering</td>\n",
       "    </tr>\n",
       "    <tr>\n",
       "      <th>4</th>\n",
       "      <td>[{'name': 'Jia-Hong Huang'}, {'name': 'Cuong D...</td>\n",
       "      <td>http://arxiv.org/abs/1711.06232v1</td>\n",
       "      <td>2017-11-16</td>\n",
       "      <td>A Novel Framework for Robustness Analysis of V...</td>\n",
       "    </tr>\n",
       "  </tbody>\n",
       "</table>\n",
       "</div>"
      ],
      "text/plain": [
       "                                             authors  \\\n",
       "0  [{'name': 'Xu Sun'}, {'name': 'Xuancheng Ren'}...   \n",
       "1  [{'name': 'Anselm Rothe'}, {'name': 'Brenden M...   \n",
       "2  [{'name': 'Jianbo Chen'}, {'name': 'Yelong She...   \n",
       "3                      [{'name': 'Rajarshee Mitra'}]   \n",
       "4  [{'name': 'Jia-Hong Huang'}, {'name': 'Cuong D...   \n",
       "\n",
       "                                link  published  \\\n",
       "0  http://arxiv.org/abs/1711.06528v1 2017-11-17   \n",
       "1  http://arxiv.org/abs/1711.06351v1 2017-11-16   \n",
       "2  http://arxiv.org/abs/1711.06288v1 2017-11-16   \n",
       "3  http://arxiv.org/abs/1711.06238v1 2017-11-16   \n",
       "4  http://arxiv.org/abs/1711.06232v1 2017-11-16   \n",
       "\n",
       "                                               title  \n",
       "0  Training Simplification and Model Simplificati...  \n",
       "1              Question Asking as Program Generation  \n",
       "2  Language-Based Image Editing with Recurrent At...  \n",
       "3      An Abstractive approach to Question Answering  \n",
       "4  A Novel Framework for Robustness Analysis of V...  "
      ]
     },
     "execution_count": 5,
     "metadata": {},
     "output_type": "execute_result"
    }
   ],
   "source": [
    "papers_df.head()"
   ]
  },
  {
   "cell_type": "markdown",
   "metadata": {
    "colab_type": "text",
    "id": "qqllq_9LOh7N"
   },
   "source": [
    "Let's construct a new column that stores the day of submission relative to a conference submission deadline. For example, February 6, 2017 was the submission deadline for ACL 2017. A paper submitted on February 5, 2017 will have a relative day value of -1, and a paper submitted on February 8, 2017 will have a relative day value of 2. We'll also have an additional column for the conference. Note this is a heuristic and doesn't necessarily mean the paper was submitted to the conference.\n",
    "\n",
    "Here are the submission deadlines of recent ACL and NAACL conferences:\n",
    "\n",
    "**ACL 2016**:\n",
    "  * Long paper: March 18, 2016\n",
    "  * Short paper: Feb 29, 2016\n",
    "\n",
    "**NAACL 2016**:\n",
    "  * Long and short paper: January 6, 2016\n",
    "  \n",
    "**ACL 2017**:\n",
    "  * Long and short paper: February 6, 2017\n",
    "\n",
    "**NAACL 2018**:\n",
    "  * Long paper: December 15, 2017\n",
    "  * Short paper: January 10, 2018"
   ]
  },
  {
   "cell_type": "code",
   "execution_count": 6,
   "metadata": {
    "collapsed": false
   },
   "outputs": [],
   "source": [
    "submission_deadlines = {\n",
    "    'acl2016_long': pd.Timestamp('2016-03-18'),\n",
    "    'acl2016_short': pd.Timestamp('2016-02-29'),\n",
    "    'naacl2016': pd.Timestamp('2016-01-06'),\n",
    "    'acl2017': pd.Timestamp('2017-02-06'),\n",
    "    'naacl2018_long': pd.Timestamp('2017-12-15') - pd.Timedelta('30 days')\n",
    "}\n",
    "\n",
    "window = pd.Timedelta('7 days')\n",
    "submission_deadline_ranges = {k: (v - window, v + window) for (k, v) in submission_deadlines.items()}\n",
    "\n",
    "def get_relative(row):\n",
    "    for conf, window_range in submission_deadline_ranges.items():\n",
    "        if window_range[0] <= row.published <= window_range[1]:\n",
    "            return row.published - submission_deadlines[conf], conf\n",
    "    \n",
    "    return np.nan, np.nan\n",
    "\n",
    "papers_df['relative'] = papers_df.apply(lambda r: get_relative(r)[0], axis=1)\n",
    "papers_df['conf'] = papers_df.apply(lambda r: get_relative(r)[1], axis=1)"
   ]
  },
  {
   "cell_type": "markdown",
   "metadata": {},
   "source": [
    "Now filter the `papers_df` to only contain papers submitted around the conference deadlines."
   ]
  },
  {
   "cell_type": "code",
   "execution_count": 7,
   "metadata": {
    "collapsed": false
   },
   "outputs": [
    {
     "data": {
      "text/html": [
       "<div>\n",
       "<style scoped>\n",
       "    .dataframe tbody tr th:only-of-type {\n",
       "        vertical-align: middle;\n",
       "    }\n",
       "\n",
       "    .dataframe tbody tr th {\n",
       "        vertical-align: top;\n",
       "    }\n",
       "\n",
       "    .dataframe thead th {\n",
       "        text-align: right;\n",
       "    }\n",
       "</style>\n",
       "<table border=\"1\" class=\"dataframe\">\n",
       "  <thead>\n",
       "    <tr style=\"text-align: right;\">\n",
       "      <th></th>\n",
       "      <th>authors</th>\n",
       "      <th>link</th>\n",
       "      <th>published</th>\n",
       "      <th>title</th>\n",
       "      <th>relative</th>\n",
       "      <th>conf</th>\n",
       "    </tr>\n",
       "  </thead>\n",
       "  <tbody>\n",
       "    <tr>\n",
       "      <th>0</th>\n",
       "      <td>[{'name': 'Xu Sun'}, {'name': 'Xuancheng Ren'}...</td>\n",
       "      <td>http://arxiv.org/abs/1711.06528v1</td>\n",
       "      <td>2017-11-17</td>\n",
       "      <td>Training Simplification and Model Simplificati...</td>\n",
       "      <td>2 days</td>\n",
       "      <td>naacl2018_long</td>\n",
       "    </tr>\n",
       "    <tr>\n",
       "      <th>1</th>\n",
       "      <td>[{'name': 'Anselm Rothe'}, {'name': 'Brenden M...</td>\n",
       "      <td>http://arxiv.org/abs/1711.06351v1</td>\n",
       "      <td>2017-11-16</td>\n",
       "      <td>Question Asking as Program Generation</td>\n",
       "      <td>1 days</td>\n",
       "      <td>naacl2018_long</td>\n",
       "    </tr>\n",
       "    <tr>\n",
       "      <th>2</th>\n",
       "      <td>[{'name': 'Jianbo Chen'}, {'name': 'Yelong She...</td>\n",
       "      <td>http://arxiv.org/abs/1711.06288v1</td>\n",
       "      <td>2017-11-16</td>\n",
       "      <td>Language-Based Image Editing with Recurrent At...</td>\n",
       "      <td>1 days</td>\n",
       "      <td>naacl2018_long</td>\n",
       "    </tr>\n",
       "    <tr>\n",
       "      <th>3</th>\n",
       "      <td>[{'name': 'Rajarshee Mitra'}]</td>\n",
       "      <td>http://arxiv.org/abs/1711.06238v1</td>\n",
       "      <td>2017-11-16</td>\n",
       "      <td>An Abstractive approach to Question Answering</td>\n",
       "      <td>1 days</td>\n",
       "      <td>naacl2018_long</td>\n",
       "    </tr>\n",
       "    <tr>\n",
       "      <th>4</th>\n",
       "      <td>[{'name': 'Jia-Hong Huang'}, {'name': 'Cuong D...</td>\n",
       "      <td>http://arxiv.org/abs/1711.06232v1</td>\n",
       "      <td>2017-11-16</td>\n",
       "      <td>A Novel Framework for Robustness Analysis of V...</td>\n",
       "      <td>1 days</td>\n",
       "      <td>naacl2018_long</td>\n",
       "    </tr>\n",
       "  </tbody>\n",
       "</table>\n",
       "</div>"
      ],
      "text/plain": [
       "                                             authors  \\\n",
       "0  [{'name': 'Xu Sun'}, {'name': 'Xuancheng Ren'}...   \n",
       "1  [{'name': 'Anselm Rothe'}, {'name': 'Brenden M...   \n",
       "2  [{'name': 'Jianbo Chen'}, {'name': 'Yelong She...   \n",
       "3                      [{'name': 'Rajarshee Mitra'}]   \n",
       "4  [{'name': 'Jia-Hong Huang'}, {'name': 'Cuong D...   \n",
       "\n",
       "                                link  published  \\\n",
       "0  http://arxiv.org/abs/1711.06528v1 2017-11-17   \n",
       "1  http://arxiv.org/abs/1711.06351v1 2017-11-16   \n",
       "2  http://arxiv.org/abs/1711.06288v1 2017-11-16   \n",
       "3  http://arxiv.org/abs/1711.06238v1 2017-11-16   \n",
       "4  http://arxiv.org/abs/1711.06232v1 2017-11-16   \n",
       "\n",
       "                                               title relative            conf  \n",
       "0  Training Simplification and Model Simplificati...   2 days  naacl2018_long  \n",
       "1              Question Asking as Program Generation   1 days  naacl2018_long  \n",
       "2  Language-Based Image Editing with Recurrent At...   1 days  naacl2018_long  \n",
       "3      An Abstractive approach to Question Answering   1 days  naacl2018_long  \n",
       "4  A Novel Framework for Robustness Analysis of V...   1 days  naacl2018_long  "
      ]
     },
     "execution_count": 7,
     "metadata": {},
     "output_type": "execute_result"
    }
   ],
   "source": [
    "conf_ddl_papers_df = papers_df[~papers_df.conf.isnull()]\n",
    "conf_ddl_papers_df.head()"
   ]
  },
  {
   "cell_type": "code",
   "execution_count": 8,
   "metadata": {
    "colab": {
     "autoexec": {
      "startup": false,
      "wait_interval": 0
     }
    },
    "colab_type": "code",
    "collapsed": false,
    "id": "bMPLgwSv1HAw"
   },
   "outputs": [],
   "source": [
    "import matplotlib.pyplot as plt\n",
    "import seaborn as sns\n",
    "sns.set_context('talk')"
   ]
  },
  {
   "cell_type": "code",
   "execution_count": 9,
   "metadata": {
    "collapsed": true
   },
   "outputs": [],
   "source": [
    "%matplotlib inline"
   ]
  },
  {
   "cell_type": "code",
   "execution_count": 10,
   "metadata": {
    "collapsed": false
   },
   "outputs": [
    {
     "data": {
      "text/html": [
       "<div>\n",
       "<style scoped>\n",
       "    .dataframe tbody tr th:only-of-type {\n",
       "        vertical-align: middle;\n",
       "    }\n",
       "\n",
       "    .dataframe tbody tr th {\n",
       "        vertical-align: top;\n",
       "    }\n",
       "\n",
       "    .dataframe thead th {\n",
       "        text-align: right;\n",
       "    }\n",
       "</style>\n",
       "<table border=\"1\" class=\"dataframe\">\n",
       "  <thead>\n",
       "    <tr style=\"text-align: right;\">\n",
       "      <th></th>\n",
       "      <th>conf</th>\n",
       "      <th>relative</th>\n",
       "      <th>authors</th>\n",
       "      <th>link</th>\n",
       "      <th>published</th>\n",
       "      <th>title</th>\n",
       "    </tr>\n",
       "  </thead>\n",
       "  <tbody>\n",
       "    <tr>\n",
       "      <th>0</th>\n",
       "      <td>acl2016_long</td>\n",
       "      <td>-7 days</td>\n",
       "      <td>4</td>\n",
       "      <td>4</td>\n",
       "      <td>4</td>\n",
       "      <td>4</td>\n",
       "    </tr>\n",
       "    <tr>\n",
       "      <th>1</th>\n",
       "      <td>acl2016_long</td>\n",
       "      <td>-6 days</td>\n",
       "      <td>3</td>\n",
       "      <td>3</td>\n",
       "      <td>3</td>\n",
       "      <td>3</td>\n",
       "    </tr>\n",
       "    <tr>\n",
       "      <th>2</th>\n",
       "      <td>acl2016_long</td>\n",
       "      <td>-4 days</td>\n",
       "      <td>2</td>\n",
       "      <td>2</td>\n",
       "      <td>2</td>\n",
       "      <td>2</td>\n",
       "    </tr>\n",
       "    <tr>\n",
       "      <th>3</th>\n",
       "      <td>acl2016_long</td>\n",
       "      <td>-3 days</td>\n",
       "      <td>4</td>\n",
       "      <td>4</td>\n",
       "      <td>4</td>\n",
       "      <td>4</td>\n",
       "    </tr>\n",
       "    <tr>\n",
       "      <th>4</th>\n",
       "      <td>acl2016_long</td>\n",
       "      <td>-2 days</td>\n",
       "      <td>2</td>\n",
       "      <td>2</td>\n",
       "      <td>2</td>\n",
       "      <td>2</td>\n",
       "    </tr>\n",
       "  </tbody>\n",
       "</table>\n",
       "</div>"
      ],
      "text/plain": [
       "           conf relative  authors  link  published  title\n",
       "0  acl2016_long  -7 days        4     4          4      4\n",
       "1  acl2016_long  -6 days        3     3          3      3\n",
       "2  acl2016_long  -4 days        2     2          2      2\n",
       "3  acl2016_long  -3 days        4     4          4      4\n",
       "4  acl2016_long  -2 days        2     2          2      2"
      ]
     },
     "execution_count": 10,
     "metadata": {},
     "output_type": "execute_result"
    }
   ],
   "source": [
    "# Grouping by conference and relative days\n",
    "grouped = conf_ddl_papers_df.groupby([conf_ddl_papers_df.conf, conf_ddl_papers_df.relative], as_index=False).count()\n",
    "grouped.head()"
   ]
  },
  {
   "cell_type": "code",
   "execution_count": 11,
   "metadata": {
    "collapsed": false
   },
   "outputs": [
    {
     "data": {
      "text/plain": [
       "Text(0,0.5,'Number of submissions')"
      ]
     },
     "execution_count": 11,
     "metadata": {},
     "output_type": "execute_result"
    },
    {
     "data": {
      "image/png": "[encoded data removed]",
      "text/plain": [
       "<matplotlib.figure.Figure at 0x10f862518>"
      ]
     },
     "metadata": {},
     "output_type": "display_data"
    }
   ],
   "source": [
    "fig, ax = plt.subplots()\n",
    "fig.set_size_inches(18.5, 10.5)\n",
    "ax = sns.countplot(x=conf_ddl_papers_df.relative.dt.days, hue='conf', data=conf_ddl_papers_df, ax=ax)\n",
    "ax.set_xlabel('Submission day relative to submission deadline')\n",
    "ax.set_ylabel('Number of submissions')"
   ]
  },
  {
   "cell_type": "code",
   "execution_count": null,
   "metadata": {
    "collapsed": true
   },
   "outputs": [],
   "source": []
  }
 ],
 "metadata": {
  "colab": {
   "collapsed_sections": [],
   "default_view": {},
   "name": "arXiv cs.CL Posting Date Analysis.ipynb",
   "provenance": [],
   "version": "0.3.2",
   "views": {}
  },
  "kernelspec": {
   "display_name": "Python 3",
   "language": "python",
   "name": "python3"
  },
  "language_info": {
   "codemirror_mode": {
    "name": "ipython",
    "version": 3
   },
   "file_extension": ".py",
   "mimetype": "text/x-python",
   "name": "python",
   "nbconvert_exporter": "python",
   "pygments_lexer": "ipython3",
   "version": "3.6.0"
  }
 },
 "nbformat": 4,
 "nbformat_minor": 0
}

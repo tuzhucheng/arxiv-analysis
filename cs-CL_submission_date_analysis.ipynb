{
 "cells": [
  {
   "cell_type": "markdown",
   "metadata": {
    "colab_type": "text",
    "id": "7d0NmbCD1Z4j"
   },
   "source": [
    "# arXiv cs.CL Submission Date Analysis"
   ]
  },
  {
   "cell_type": "code",
   "execution_count": 0,
   "metadata": {
    "colab": {
     "autoexec": {
      "startup": false,
      "wait_interval": 0
     }
    },
    "colab_type": "code",
    "collapsed": true,
    "id": "ogxcOIGZ92bv"
   },
   "outputs": [],
   "source": [
    "!pip install -q feedparser"
   ]
  },
  {
   "cell_type": "markdown",
   "metadata": {
    "colab_type": "text",
    "id": "wNLnJoH4HL8K"
   },
   "source": [
    "We will call the arXiv API to get the 4000 most recently submitted papers in cs.CL. As of November 17 this will get papers up until ~Nov 2015."
   ]
  },
  {
   "cell_type": "code",
   "execution_count": 0,
   "metadata": {
    "colab": {
     "autoexec": {
      "startup": false,
      "wait_interval": 0
     }
    },
    "colab_type": "code",
    "collapsed": true,
    "id": "rEml1bfL-NJQ"
   },
   "outputs": [],
   "source": [
    "QUERY_URL = 'http://export.arxiv.org/api/query?search_query=cat:cs.CL&sortBy=submittedDate&start={}&max_results={}'"
   ]
  },
  {
   "cell_type": "code",
   "execution_count": 0,
   "metadata": {
    "colab": {
     "autoexec": {
      "startup": false,
      "wait_interval": 0
     }
    },
    "colab_type": "code",
    "collapsed": true,
    "id": "mzE-NUWuBFT2"
   },
   "outputs": [],
   "source": [
    "import feedparser\n",
    "import time\n",
    "\n",
    "papers = []\n",
    "for i in range(0, 4000, 50):\n",
    "  query = QUERY_URL.format(i, 50)\n",
    "  res = feedparser.parse(query)\n",
    "  for e in res.entries:\n",
    "    papers.append({\n",
    "        'title': e.title,\n",
    "        'published': e.published_parsed,\n",
    "        'authors': e.authors,\n",
    "        'link': e.link\n",
    "    })\n",
    "  time.sleep(2)"
   ]
  },
  {
   "cell_type": "markdown",
   "metadata": {
    "colab_type": "text",
    "id": "SO4m8vx5Hryr"
   },
   "source": [
    "Great! Now we have all the papers in `papers`. Let's analyze the submission times. A single paper look something like this:"
   ]
  },
  {
   "cell_type": "code",
   "execution_count": 12,
   "metadata": {
    "colab": {
     "autoexec": {
      "startup": false,
      "wait_interval": 0
     },
     "base_uri": "https://localhost:8080/",
     "height": 85,
     "output_extras": [
      {
       "item_id": 1
      }
     ]
    },
    "colab_type": "code",
    "collapsed": false,
    "executionInfo": {
     "elapsed": 266,
     "status": "ok",
     "timestamp": 1510974906856,
     "user": {
      "displayName": "Michael Tu",
      "photoUrl": "//lh5.googleusercontent.com/-03XCyMB0pHE/AAAAAAAAAAI/AAAAAAAAE3E/8Ax_z3-e6S8/s50-c-k-no/photo.jpg",
      "userId": "110745996004260710733"
     },
     "user_tz": 300
    },
    "id": "8_-oDMtlGFKg",
    "outputId": "310c46b5-edf4-49a7-d639-4cc76384f13d"
   },
   "outputs": [
    {
     "data": {
      "text/plain": [
       "{'authors': [{'name': u'Rajarshee Mitra'}],\n",
       " 'link': u'http://arxiv.org/abs/1711.06238v1',\n",
       " 'published': time.struct_time(tm_year=2017, tm_mon=11, tm_mday=16, tm_hour=18, tm_min=34, tm_sec=16, tm_wday=3, tm_yday=320, tm_isdst=0),\n",
       " 'title': u'An Abstractive approach to Question Answering'}"
      ]
     },
     "execution_count": 12,
     "metadata": {
      "tags": []
     },
     "output_type": "execute_result"
    }
   ],
   "source": [
    "papers[0]"
   ]
  },
  {
   "cell_type": "code",
   "execution_count": 0,
   "metadata": {
    "colab": {
     "autoexec": {
      "startup": false,
      "wait_interval": 0
     }
    },
    "colab_type": "code",
    "collapsed": true,
    "id": "IJe2pj6iIHhU"
   },
   "outputs": [],
   "source": [
    "import pandas as pd\n",
    "\n",
    "papers_df = pd.DataFrame(papers)"
   ]
  },
  {
   "cell_type": "markdown",
   "metadata": {
    "colab_type": "text",
    "id": "D-jhhrgGOa89"
   },
   "source": [
    "Let's convert the published column to an actual datetime object."
   ]
  },
  {
   "cell_type": "code",
   "execution_count": 0,
   "metadata": {
    "colab": {
     "autoexec": {
      "startup": false,
      "wait_interval": 0
     }
    },
    "colab_type": "code",
    "collapsed": true,
    "id": "Byvu7LuYIQG8"
   },
   "outputs": [],
   "source": [
    "papers_df['published'] = papers_df.apply(lambda r: '-'.join(map(lambda i: str(i).zfill(2), [r.published.tm_year, r.published.tm_mon, r.published.tm_mday])), axis=1).astype('datetime64')"
   ]
  },
  {
   "cell_type": "code",
   "execution_count": 34,
   "metadata": {
    "colab": {
     "autoexec": {
      "startup": false,
      "wait_interval": 0
     },
     "base_uri": "https://localhost:8080/",
     "height": 198,
     "output_extras": [
      {
       "item_id": 1
      }
     ]
    },
    "colab_type": "code",
    "collapsed": false,
    "executionInfo": {
     "elapsed": 453,
     "status": "ok",
     "timestamp": 1510976380809,
     "user": {
      "displayName": "Michael Tu",
      "photoUrl": "//lh5.googleusercontent.com/-03XCyMB0pHE/AAAAAAAAAAI/AAAAAAAAE3E/8Ax_z3-e6S8/s50-c-k-no/photo.jpg",
      "userId": "110745996004260710733"
     },
     "user_tz": 300
    },
    "id": "oq0XCYV7LH9A",
    "outputId": "e55c3457-bc9f-4641-e0d2-f615440a1e20"
   },
   "outputs": [
    {
     "data": {
      "text/html": [
       "<div>\n",
       "<style>\n",
       "    .dataframe thead tr:only-child th {\n",
       "        text-align: right;\n",
       "    }\n",
       "\n",
       "    .dataframe thead th {\n",
       "        text-align: left;\n",
       "    }\n",
       "\n",
       "    .dataframe tbody tr th {\n",
       "        vertical-align: top;\n",
       "    }\n",
       "</style>\n",
       "<table border=\"1\" class=\"dataframe\">\n",
       "  <thead>\n",
       "    <tr style=\"text-align: right;\">\n",
       "      <th></th>\n",
       "      <th>authors</th>\n",
       "      <th>link</th>\n",
       "      <th>published</th>\n",
       "      <th>title</th>\n",
       "    </tr>\n",
       "  </thead>\n",
       "  <tbody>\n",
       "    <tr>\n",
       "      <th>0</th>\n",
       "      <td>[{u'name': u'Rajarshee Mitra'}]</td>\n",
       "      <td>http://arxiv.org/abs/1711.06238v1</td>\n",
       "      <td>2017-11-16</td>\n",
       "      <td>An Abstractive approach to Question Answering</td>\n",
       "    </tr>\n",
       "    <tr>\n",
       "      <th>1</th>\n",
       "      <td>[{u'name': u'Jia-Hong Huang'}, {u'name': u'Cuo...</td>\n",
       "      <td>http://arxiv.org/abs/1711.06232v1</td>\n",
       "      <td>2017-11-16</td>\n",
       "      <td>A Novel Framework for Robustness Analysis of V...</td>\n",
       "    </tr>\n",
       "    <tr>\n",
       "      <th>2</th>\n",
       "      <td>[{u'name': u'Navid Rekabsaz'}, {u'name': u'Mih...</td>\n",
       "      <td>http://arxiv.org/abs/1711.06196v1</td>\n",
       "      <td>2017-11-16</td>\n",
       "      <td>Addressing Cross-Lingual Word Sense Disambigua...</td>\n",
       "    </tr>\n",
       "    <tr>\n",
       "      <th>3</th>\n",
       "      <td>[{u'name': u'Lai Dac Viet'}, {u'name': u'Nguye...</td>\n",
       "      <td>http://arxiv.org/abs/1711.06141v1</td>\n",
       "      <td>2017-11-16</td>\n",
       "      <td>ConvAMR: Abstract meaning representation parsing</td>\n",
       "    </tr>\n",
       "    <tr>\n",
       "      <th>4</th>\n",
       "      <td>[{u'name': u'Ruichu Cai'}, {u'name': u'Boyan X...</td>\n",
       "      <td>http://arxiv.org/abs/1711.06061v1</td>\n",
       "      <td>2017-11-16</td>\n",
       "      <td>An Encoder-Decoder Framework Translating Natur...</td>\n",
       "    </tr>\n",
       "  </tbody>\n",
       "</table>\n",
       "</div>"
      ],
      "text/plain": [
       "                                             authors  \\\n",
       "0                    [{u'name': u'Rajarshee Mitra'}]   \n",
       "1  [{u'name': u'Jia-Hong Huang'}, {u'name': u'Cuo...   \n",
       "2  [{u'name': u'Navid Rekabsaz'}, {u'name': u'Mih...   \n",
       "3  [{u'name': u'Lai Dac Viet'}, {u'name': u'Nguye...   \n",
       "4  [{u'name': u'Ruichu Cai'}, {u'name': u'Boyan X...   \n",
       "\n",
       "                                link  published  \\\n",
       "0  http://arxiv.org/abs/1711.06238v1 2017-11-16   \n",
       "1  http://arxiv.org/abs/1711.06232v1 2017-11-16   \n",
       "2  http://arxiv.org/abs/1711.06196v1 2017-11-16   \n",
       "3  http://arxiv.org/abs/1711.06141v1 2017-11-16   \n",
       "4  http://arxiv.org/abs/1711.06061v1 2017-11-16   \n",
       "\n",
       "                                               title  \n",
       "0      An Abstractive approach to Question Answering  \n",
       "1  A Novel Framework for Robustness Analysis of V...  \n",
       "2  Addressing Cross-Lingual Word Sense Disambigua...  \n",
       "3   ConvAMR: Abstract meaning representation parsing  \n",
       "4  An Encoder-Decoder Framework Translating Natur...  "
      ]
     },
     "execution_count": 34,
     "metadata": {
      "tags": []
     },
     "output_type": "execute_result"
    }
   ],
   "source": [
    "papers_df.head()"
   ]
  },
  {
   "cell_type": "markdown",
   "metadata": {
    "colab_type": "text",
    "id": "qqllq_9LOh7N"
   },
   "source": [
    "Let's look at a count of the papers published per month!"
   ]
  },
  {
   "cell_type": "code",
   "execution_count": 0,
   "metadata": {
    "colab": {
     "autoexec": {
      "startup": false,
      "wait_interval": 0
     }
    },
    "colab_type": "code",
    "collapsed": true,
    "id": "bMPLgwSv1HAw"
   },
   "outputs": [],
   "source": [
    "import matplotlib.pyplot as plt\n",
    "plt.rcParams['figure.figsize'] = (14, 6)"
   ]
  },
  {
   "cell_type": "code",
   "execution_count": 0,
   "metadata": {
    "colab": {
     "autoexec": {
      "startup": false,
      "wait_interval": 0
     }
    },
    "colab_type": "code",
    "collapsed": true,
    "id": "nM17MEJIIZTe"
   },
   "outputs": [],
   "source": [
    "papers_monthly = papers_df.published.groupby([papers_df.published.dt.year, papers_df.published.dt.month]).count()"
   ]
  },
  {
   "cell_type": "code",
   "execution_count": 72,
   "metadata": {
    "colab": {
     "autoexec": {
      "startup": false,
      "wait_interval": 0
     },
     "base_uri": "https://localhost:8080/",
     "height": 445,
     "output_extras": [
      {
       "item_id": 1
      },
      {
       "item_id": 2
      }
     ]
    },
    "colab_type": "code",
    "collapsed": false,
    "executionInfo": {
     "elapsed": 641,
     "status": "ok",
     "timestamp": 1510980628249,
     "user": {
      "displayName": "Michael Tu",
      "photoUrl": "//lh5.googleusercontent.com/-03XCyMB0pHE/AAAAAAAAAAI/AAAAAAAAE3E/8Ax_z3-e6S8/s50-c-k-no/photo.jpg",
      "userId": "110745996004260710733"
     },
     "user_tz": 300
    },
    "id": "XgT8juOFNULz",
    "outputId": "ac3c5875-b989-4af6-dd74-860ada7bb40c"
   },
   "outputs": [
    {
     "data": {
      "text/plain": [
       "Text(0,0.5,u'Number of publications')"
      ]
     },
     "execution_count": 72,
     "metadata": {
      "tags": []
     },
     "output_type": "execute_result"
    },
    {
     "data": {
      "image/png": "[encoded data removed]",
      "text/plain": [
       "<matplotlib.figure.Figure at 0x7f8c7a588c50>"
      ]
     },
     "metadata": {
      "tags": []
     },
     "output_type": "display_data"
    }
   ],
   "source": [
    "ax = papers_monthly.plot(kind='bar')\n",
    "ax.set_xlabel('(Year, Month)')\n",
    "ax.set_ylabel('Number of publications')"
   ]
  },
  {
   "cell_type": "markdown",
   "metadata": {
    "colab_type": "text",
    "id": "hiu3AkMhQgyJ"
   },
   "source": [
    "Here are the paper due dates of major NLP conferences:\n",
    "\n",
    "**ACL 2016**:\n",
    "  * Long paper: March 18, 2016 for submission, June 7 for camera-ready\n",
    "  * Short paper: Feb 29, 2016 for submission, May 19 for camera-ready\n",
    "\n",
    "**NAACL 2016**:\n",
    "  * Long and short paper: January 6, 2016 for submission, April 1 for camera-ready\n",
    "\n",
    "**EMNLP 2016**:\n",
    "  * Long and short paper: June 3, 2016 for submission, September 23 for camera-ready\n",
    "  \n",
    "**ACL 2017**:\n",
    "  * Long and short paper: February 6, 2017 for submission, April 22 for camera-ready\n",
    "\n",
    "**EMNLP 2017**:\n",
    "  * Long and short paper: April 14, 2017 for submission, July 21 for camera-ready\n",
    "\n",
    "**NAACL 2018**:\n",
    "  * Long paper: December 15, 2017 for submission\n",
    "  * Short paper: January 10, 2018 for submission"
   ]
  },
  {
   "cell_type": "markdown",
   "metadata": {
    "colab_type": "text",
    "id": "ZMQ7ovjkVo4L"
   },
   "source": [
    "## ACL 2016"
   ]
  },
  {
   "cell_type": "markdown",
   "metadata": {
    "colab_type": "text",
    "id": "xX2_o8AQVagS"
   },
   "source": [
    "Let's take a look right before ACL 2016 long and short paper deadlines."
   ]
  },
  {
   "cell_type": "code",
   "execution_count": 71,
   "metadata": {
    "colab": {
     "autoexec": {
      "startup": false,
      "wait_interval": 0
     },
     "base_uri": "https://localhost:8080/",
     "height": 424,
     "output_extras": [
      {
       "item_id": 1
      },
      {
       "item_id": 2
      }
     ]
    },
    "colab_type": "code",
    "collapsed": false,
    "executionInfo": {
     "elapsed": 779,
     "status": "ok",
     "timestamp": 1510980599586,
     "user": {
      "displayName": "Michael Tu",
      "photoUrl": "//lh5.googleusercontent.com/-03XCyMB0pHE/AAAAAAAAAAI/AAAAAAAAE3E/8Ax_z3-e6S8/s50-c-k-no/photo.jpg",
      "userId": "110745996004260710733"
     },
     "user_tz": 300
    },
    "id": "SQ0MkUbPVvqj",
    "outputId": "60a30678-bcb1-41db-ee8e-56223e62467a"
   },
   "outputs": [
    {
     "data": {
      "text/plain": [
       "Text(0,0.5,u'Number of publications')"
      ]
     },
     "execution_count": 71,
     "metadata": {
      "tags": []
     },
     "output_type": "execute_result"
    },
    {
     "data": {
      "image/png": "[encoded data removed]",
      "text/plain": [
       "<matplotlib.figure.Figure at 0x7f8c7a57f150>"
      ]
     },
     "metadata": {
      "tags": []
     },
     "output_type": "display_data"
    }
   ],
   "source": [
    "mar_16 = papers_df[(papers_df.published.dt.year == 2016) & (papers_df.published.dt.month.isin([2, 3]))]\n",
    "ax = mar_16.published.groupby([mar_16.published.dt.month, mar_16.published.dt.day]).count().plot(kind='bar')\n",
    "ax.set_xlabel('Date of March 2016')\n",
    "ax.set_ylabel('Number of publications')"
   ]
  },
  {
   "cell_type": "markdown",
   "metadata": {
    "colab_type": "text",
    "id": "gHFQSxP4XNjG"
   },
   "source": [
    "Higher than usual number of papers are published on March 4th, a few days after the February 29th short paper deadline. Also, higher than usual number of papers are published on March 19th, one day after the long paper deadline."
   ]
  },
  {
   "cell_type": "markdown",
   "metadata": {
    "colab_type": "text",
    "id": "vmAg-TVbQ15S"
   },
   "source": [
    "Also, let's take a look at June 2016. We see many papers published on June 7, 8, 9, 10, right after the ACL 2016 long paper camera-ready deadline."
   ]
  },
  {
   "cell_type": "code",
   "execution_count": 70,
   "metadata": {
    "colab": {
     "autoexec": {
      "startup": false,
      "wait_interval": 0
     },
     "base_uri": "https://localhost:8080/",
     "height": 406,
     "output_extras": [
      {
       "item_id": 1
      },
      {
       "item_id": 2
      }
     ]
    },
    "colab_type": "code",
    "collapsed": false,
    "executionInfo": {
     "elapsed": 694,
     "status": "ok",
     "timestamp": 1510980564047,
     "user": {
      "displayName": "Michael Tu",
      "photoUrl": "//lh5.googleusercontent.com/-03XCyMB0pHE/AAAAAAAAAAI/AAAAAAAAE3E/8Ax_z3-e6S8/s50-c-k-no/photo.jpg",
      "userId": "110745996004260710733"
     },
     "user_tz": 300
    },
    "id": "NNpNAwEbLlaq",
    "outputId": "75499ecb-e1b3-4fbb-9544-4df3e2d30c59"
   },
   "outputs": [
    {
     "data": {
      "text/plain": [
       "Text(0,0.5,u'Number of publications')"
      ]
     },
     "execution_count": 70,
     "metadata": {
      "tags": []
     },
     "output_type": "execute_result"
    },
    {
     "data": {
      "image/png": "[encoded data removed]",
      "text/plain": [
       "<matplotlib.figure.Figure at 0x7f8c7a66a710>"
      ]
     },
     "metadata": {
      "tags": []
     },
     "output_type": "display_data"
    }
   ],
   "source": [
    "june_16 = papers_df[(papers_df.published.dt.year == 2016) & (papers_df.published.dt.month == 6)]\n",
    "ax = june_16.published.groupby(june_16.published.dt.day).count().plot(kind='bar')\n",
    "ax.set_xlabel('Date of June 2016')\n",
    "ax.set_ylabel('Number of publications')"
   ]
  },
  {
   "cell_type": "markdown",
   "metadata": {
    "colab_type": "text",
    "id": "zxJapAiVXy3x"
   },
   "source": [
    "## NAACL 2016"
   ]
  },
  {
   "cell_type": "code",
   "execution_count": 69,
   "metadata": {
    "colab": {
     "autoexec": {
      "startup": false,
      "wait_interval": 0
     },
     "base_uri": "https://localhost:8080/",
     "height": 406,
     "output_extras": [
      {
       "item_id": 1
      },
      {
       "item_id": 2
      }
     ]
    },
    "colab_type": "code",
    "collapsed": false,
    "executionInfo": {
     "elapsed": 692,
     "status": "ok",
     "timestamp": 1510980546405,
     "user": {
      "displayName": "Michael Tu",
      "photoUrl": "//lh5.googleusercontent.com/-03XCyMB0pHE/AAAAAAAAAAI/AAAAAAAAE3E/8Ax_z3-e6S8/s50-c-k-no/photo.jpg",
      "userId": "110745996004260710733"
     },
     "user_tz": 300
    },
    "id": "FV-CDuHsXwhB",
    "outputId": "110a520e-8c67-405a-e6aa-0aa9eb2a4d63"
   },
   "outputs": [
    {
     "data": {
      "text/plain": [
       "Text(0,0.5,u'Number of publications')"
      ]
     },
     "execution_count": 69,
     "metadata": {
      "tags": []
     },
     "output_type": "execute_result"
    },
    {
     "data": {
      "image/png": "[encoded data removed]",
      "text/plain": [
       "<matplotlib.figure.Figure at 0x7f8c7ab27710>"
      ]
     },
     "metadata": {
      "tags": []
     },
     "output_type": "display_data"
    }
   ],
   "source": [
    "jan_16 = papers_df[(papers_df.published.dt.year == 2016) & (papers_df.published.dt.month == 1)]\n",
    "ax = jan_16.published.groupby(jan_16.published.dt.day).count().plot(kind='bar')\n",
    "ax.set_xlabel('Date of January 2016')\n",
    "ax.set_ylabel('Number of publications')"
   ]
  },
  {
   "cell_type": "markdown",
   "metadata": {
    "colab_type": "text",
    "id": "p5Zycj-1YK4o"
   },
   "source": [
    "The long and short papers are due on Jan 6th. Not sure if there's anything unusual here."
   ]
  },
  {
   "cell_type": "markdown",
   "metadata": {
    "colab_type": "text",
    "id": "-JxdnBmCYW4o"
   },
   "source": [
    "## ACL 2017"
   ]
  },
  {
   "cell_type": "code",
   "execution_count": 68,
   "metadata": {
    "colab": {
     "autoexec": {
      "startup": false,
      "wait_interval": 0
     },
     "base_uri": "https://localhost:8080/",
     "height": 406,
     "output_extras": [
      {
       "item_id": 1
      },
      {
       "item_id": 2
      }
     ]
    },
    "colab_type": "code",
    "collapsed": false,
    "executionInfo": {
     "elapsed": 565,
     "status": "ok",
     "timestamp": 1510979868547,
     "user": {
      "displayName": "Michael Tu",
      "photoUrl": "//lh5.googleusercontent.com/-03XCyMB0pHE/AAAAAAAAAAI/AAAAAAAAE3E/8Ax_z3-e6S8/s50-c-k-no/photo.jpg",
      "userId": "110745996004260710733"
     },
     "user_tz": 300
    },
    "id": "c_Z2mjg8YZfi",
    "outputId": "d1c5204d-edf7-4b1f-93c6-e4de0dce8b65"
   },
   "outputs": [
    {
     "data": {
      "text/plain": [
       "Text(0,0.5,u'Number of publications')"
      ]
     },
     "execution_count": 68,
     "metadata": {
      "tags": []
     },
     "output_type": "execute_result"
    },
    {
     "data": {
      "image/png": "[encoded data removed]",
      "text/plain": [
       "<matplotlib.figure.Figure at 0x7f8c7a85f090>"
      ]
     },
     "metadata": {
      "tags": []
     },
     "output_type": "display_data"
    }
   ],
   "source": [
    "feb_17 = papers_df[(papers_df.published.dt.year == 2017) & (papers_df.published.dt.month == 2)]\n",
    "ax = feb_17.published.groupby(feb_17.published.dt.day).count().plot(kind='bar')\n",
    "ax.set_xlabel('Date of February 2017')\n",
    "ax.set_ylabel('Number of publications')"
   ]
  },
  {
   "cell_type": "markdown",
   "metadata": {
    "colab_type": "text",
    "id": "gu9boNt9YoLC"
   },
   "source": [
    "Feb. 6th was the submission deadline. Lots of papers published on those days."
   ]
  },
  {
   "cell_type": "markdown",
   "metadata": {
    "colab_type": "text",
    "id": "JKYSkThXZX9V"
   },
   "source": [
    "## NAACL 2018"
   ]
  },
  {
   "cell_type": "markdown",
   "metadata": {
    "colab_type": "text",
    "id": "Tm-6CRySZndO"
   },
   "source": [
    "Let's take a look around Nov. 14 based on new ACL arXiv rules. This is one month before long paper deadline."
   ]
  },
  {
   "cell_type": "code",
   "execution_count": 66,
   "metadata": {
    "colab": {
     "autoexec": {
      "startup": false,
      "wait_interval": 0
     },
     "base_uri": "https://localhost:8080/",
     "height": 406,
     "output_extras": [
      {
       "item_id": 1
      },
      {
       "item_id": 2
      }
     ]
    },
    "colab_type": "code",
    "collapsed": false,
    "executionInfo": {
     "elapsed": 501,
     "status": "ok",
     "timestamp": 1510979826763,
     "user": {
      "displayName": "Michael Tu",
      "photoUrl": "//lh5.googleusercontent.com/-03XCyMB0pHE/AAAAAAAAAAI/AAAAAAAAE3E/8Ax_z3-e6S8/s50-c-k-no/photo.jpg",
      "userId": "110745996004260710733"
     },
     "user_tz": 300
    },
    "id": "n8AJyHRKYhn7",
    "outputId": "9827e37c-2e9e-4979-d737-70ce446ba167"
   },
   "outputs": [
    {
     "data": {
      "text/plain": [
       "Text(0,0.5,u'Number of publications')"
      ]
     },
     "execution_count": 66,
     "metadata": {
      "tags": []
     },
     "output_type": "execute_result"
    },
    {
     "data": {
      "image/png": "[encoded data removed]",
      "text/plain": [
       "<matplotlib.figure.Figure at 0x7f8c7aa793d0>"
      ]
     },
     "metadata": {
      "tags": []
     },
     "output_type": "display_data"
    }
   ],
   "source": [
    "nov_17 = papers_df[(papers_df.published.dt.year == 2017) & (papers_df.published.dt.month == 11)]\n",
    "ax = nov_17.published.groupby(nov_17.published.dt.day).count().plot(kind='bar')\n",
    "ax.set_xlabel('Date of November 2017')\n",
    "ax.set_ylabel('Number of publications')"
   ]
  },
  {
   "cell_type": "markdown",
   "metadata": {
    "colab_type": "text",
    "id": "ZL6_orsCZ8t3"
   },
   "source": [
    "Haha, yes, higher number of publications on Nov. 14 and 15. Seems yes, people just submit one month earlier? See hypotheses in https://twitter.com/lintool/status/928313098305396737, https://twitter.com/lintool/status/930461625647337473"
   ]
  },
  {
   "cell_type": "code",
   "execution_count": 0,
   "metadata": {
    "colab": {
     "autoexec": {
      "startup": false,
      "wait_interval": 0
     }
    },
    "colab_type": "code",
    "collapsed": true,
    "id": "mLQKZcB7aQoy"
   },
   "outputs": [],
   "source": []
  }
 ],
 "metadata": {
  "colab": {
   "collapsed_sections": [],
   "default_view": {},
   "name": "arXiv cs.CL Posting Date Analysis.ipynb",
   "provenance": [],
   "version": "0.3.2",
   "views": {}
  },
  "kernelspec": {
   "display_name": "Python 3",
   "language": "python",
   "name": "python3"
  },
  "language_info": {
   "codemirror_mode": {
    "name": "ipython",
    "version": 3
   },
   "file_extension": ".py",
   "mimetype": "text/x-python",
   "name": "python",
   "nbconvert_exporter": "python",
   "pygments_lexer": "ipython3",
   "version": "3.6.0"
  }
 },
 "nbformat": 4,
 "nbformat_minor": 0
}
